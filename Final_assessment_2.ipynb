{
 "cells": [
  {
   "cell_type": "markdown",
   "id": "e0ee74ef",
   "metadata": {},
   "source": [
    "# My Jupyter Notebook on IBM Watson Studio"
   ]
  },
  {
   "cell_type": "markdown",
   "id": "db8251c0",
   "metadata": {},
   "source": [
    "**Tanmay Manchanda**\n",
    "\n",
    "Data Analyst"
   ]
  },
  {
   "cell_type": "markdown",
   "id": "36c4db06",
   "metadata": {},
   "source": [
    "*I am interested in data science because it's a very interesting field which gives both flaws and solutions in a business model using the data available*"
   ]
  },
  {
   "cell_type": "markdown",
   "id": "42175074",
   "metadata": {},
   "source": [
    "### The code in cell 5 takes 2 numbers 1 and 2 and prints it's sum as the output"
   ]
  },
  {
   "cell_type": "code",
   "execution_count": 7,
   "id": "92a42e26",
   "metadata": {},
   "outputs": [
    {
     "name": "stdout",
     "output_type": "stream",
     "text": [
      "3\n"
     ]
    }
   ],
   "source": [
    "print (1+2)\n"
   ]
  },
  {
   "attachments": {
    "Image_eg.jpeg": {
     "image/jpeg": "[encoded data removed]"
    }
   },
   "cell_type": "markdown",
   "id": "21290e9d",
   "metadata": {},
   "source": [
    "Horizontal rule: \n",
    "\n",
    "---\n",
    "\n",
    "Bulleted list: \n",
    "\n",
    "* Eg 1\n",
    "* Eg 2\n",
    "* Eg 3\n",
    "\n",
    "Numbered List:\n",
    "\n",
    "1. Eg 1\n",
    "2. Eg 2\n",
    "3. Eg 3 \n",
    "\n",
    "Table: \n",
    "\n",
    "| Name | | Age | | Yearly Salary |\n",
    "| ---- | | --- | | ---- |\n",
    "| Tanmay| | 23 |  | 300,000 |\n",
    "| Dan | | 25 | | 120,000 |\n",
    "| Will | | 22 | | 200,000 |\n",
    "| Joe | | 21 | | 250,000 |\n",
    "\n",
    "Hyperlink: \n",
    "\n",
    "[Coursera](https://www.coursera.org)\n",
    "  \n",
    "Images: \n",
    "\n",
    "![Image_eg.jpeg](attachment:Image_eg.jpeg)\n",
    "\n",
    "Code Highlighting:\n",
    "\n",
    "`This text has been highlighted`\n",
    " \n",
    "\n",
    "<code> \n",
    "This text has been highlighted\n",
    "</code>\n",
    "\n",
    "Syntax Highlighting:\n",
    "\n",
    "```\n",
    "This syntax has been highlighted\n",
    "\n",
    "```\n",
    "\n",
    "Blocked quotes:\n",
    "\n",
    "> This is a blocked code Eg\n",
    "\n",
    "> Eg 1\n",
    ">\n",
    "> Eg 2\n",
    ">\n",
    "> Eg 3\n",
    ">\n",
    "> Eg 4\n",
    "\n",
    "Strikethrough:\n",
    "\n",
    "We are trying to implement a Strikethrough text. ~~Here we go, our first strikethriugh text.~~"
   ]
  },
  {
   "cell_type": "code",
   "execution_count": null,
   "id": "8c0bf60c",
   "metadata": {},
   "outputs": [],
   "source": []
  }
 ],
 "metadata": {
  "kernelspec": {
   "display_name": "Python 3 (ipykernel)",
   "language": "python",
   "name": "python3"
  },
  "language_info": {
   "codemirror_mode": {
    "name": "ipython",
    "version": 3
   },
   "file_extension": ".py",
   "mimetype": "text/x-python",
   "name": "python",
   "nbconvert_exporter": "python",
   "pygments_lexer": "ipython3",
   "version": "3.9.12"
  }
 },
 "nbformat": 4,
 "nbformat_minor": 5
}
