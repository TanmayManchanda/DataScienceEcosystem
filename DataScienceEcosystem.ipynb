{
 "cells": [
  {
   "cell_type": "markdown",
   "id": "c8a4d5b1",
   "metadata": {},
   "source": [
    "# Data Science Tools and Ecosystem"
   ]
  },
  {
   "cell_type": "markdown",
   "id": "8db0d867",
   "metadata": {},
   "source": [
    "In this notebook, Data Science Tools and Ecosystem are summarized."
   ]
  },
  {
   "cell_type": "markdown",
   "id": "f00ae278",
   "metadata": {},
   "source": [
    "Some of the popular languages that Data Scientists use are:\n",
    "1. Python\n",
    "2. R\n",
    "3. SQL\n",
    "4. JAVA\n",
    "5. SCALA\n",
    "6. C ++\n",
    "7. JAVA SCRIPT\n",
    "8. JULIA"
   ]
  },
  {
   "cell_type": "markdown",
   "id": "0d42294b",
   "metadata": {},
   "source": [
    "Some of the commonly used libraries used by Data Scientists include:\n",
    "1. Pandas\n",
    "2. NumPy\n",
    "3. SciPy\n",
    "4. Matplotlib\n",
    "5. PyTorch\n",
    "6. TensorFlow\n",
    "7. Keras\n",
    "8. Scikit-learn\n",
    "9. Java-ML\n",
    "10. ggplot\n",
    "11. brain.js\n",
    "12. machinelearning.js\n",
    "13. API libraries"
   ]
  },
  {
   "cell_type": "markdown",
   "id": "d7be75b2",
   "metadata": {},
   "source": [
    "|Data Science Tools:|\n",
    "| ---- |\n",
    "| Data Management |\n",
    "|Data Integration and Transformation|\n",
    "|Model Building|\n",
    "|Model deployment|\n",
    "|Model monitoring|\n",
    "|Code Asset management|\n",
    "|Data Asset management|\n",
    "\n",
    "\n",
    "\n",
    "\n",
    "\n"
   ]
  },
  {
   "cell_type": "markdown",
   "id": "9c74d48a",
   "metadata": {},
   "source": [
    "### Below are a few examples of evaluating arithmetic expressions in Python\n",
    "\n",
    "(+) Addition\n",
    "\n",
    "(-) Subtraction\n",
    "\n",
    "(* multiplication\n",
    "\n",
    "(/) division\n",
    "\n",
    "(** Exponent"
   ]
  },
  {
   "cell_type": "code",
   "execution_count": 14,
   "id": "72a46c17",
   "metadata": {},
   "outputs": [
    {
     "name": "stdout",
     "output_type": "stream",
     "text": [
      "17\n"
     ]
    }
   ],
   "source": [
    "# This a simple arithmetic expression to mutiply then add integers\n",
    "\n",
    "print((3*4)+5)"
   ]
  },
  {
   "cell_type": "code",
   "execution_count": 16,
   "id": "1279f901",
   "metadata": {},
   "outputs": [
    {
     "name": "stdout",
     "output_type": "stream",
     "text": [
      "3.3333333333333335\n"
     ]
    }
   ],
   "source": [
    "# This will convert 200 minutes to hours by dividing by 60\n",
    "\n",
    "print((200/60))"
   ]
  },
  {
   "cell_type": "markdown",
   "id": "7810fa1c",
   "metadata": {},
   "source": [
    "**Objectives**:\n",
    "- List popular languages for Data Science\n",
    "- How to multiply two numbers\n",
    "- List some importtant libraries in python"
   ]
  },
  {
   "cell_type": "markdown",
   "id": "defa2497",
   "metadata": {},
   "source": [
    "## Author\n",
    "\n",
    "Tanmay Manchanda"
   ]
  },
  {
   "cell_type": "code",
   "execution_count": null,
   "id": "e6ea8bfe",
   "metadata": {},
   "outputs": [],
   "source": []
  }
 ],
 "metadata": {
  "kernelspec": {
   "display_name": "Python 3 (ipykernel)",
   "language": "python",
   "name": "python3"
  },
  "language_info": {
   "codemirror_mode": {
    "name": "ipython",
    "version": 3
   },
   "file_extension": ".py",
   "mimetype": "text/x-python",
   "name": "python",
   "nbconvert_exporter": "python",
   "pygments_lexer": "ipython3",
   "version": "3.9.12"
  }
 },
 "nbformat": 4,
 "nbformat_minor": 5
}
